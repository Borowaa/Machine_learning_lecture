{
  "cells": [
    {
      "cell_type": "markdown",
      "metadata": {
        "id": "view-in-github",
        "colab_type": "text"
      },
      "source": [
        "<a href=\"https://colab.research.google.com/github/Borowaa/Machine_learning_lecture/blob/main/03_fine_tuning.ipynb\" target=\"_parent\"><img src=\"https://colab.research.google.com/assets/colab-badge.svg\" alt=\"Open In Colab\"/></a>"
      ]
    },
    {
      "cell_type": "markdown",
      "id": "a02ed581",
      "metadata": {
        "id": "a02ed581"
      },
      "source": [
        "# Fine-Tuning Your Model\n",
        "\n",
        "<a href=\"https://colab.research.google.com/github/marcinsawinski/UEP_KIE_ML_CLASS/blob/main/dc_supervised_student/03_Fine-tuning.ipynb\" target=\"_parent\"><img src=\"https://colab.research.google.com/assets/colab-badge.svg\" alt=\"Open In Colab\"/></a>\n",
        "\n",
        "Having trained models, now you will learn how to evaluate them. In this chapter, you will be introduced to several metrics along with a visualization technique for analyzing classification model performance using scikit-learn. You will also learn how to optimize classification and regression models through the use of hyperparameter tuning."
      ]
    },
    {
      "cell_type": "markdown",
      "id": "29568334",
      "metadata": {
        "id": "29568334"
      },
      "source": [
        "## Assessing a diabetes prediction classifier\n",
        "In this chapter you'll work with the diabetes_df dataset introduced previously.\n",
        "\n",
        "The goal is to predict whether or not each individual is likely to have diabetes based on the features body mass index (BMI) and age (in years). Therefore, it is a binary classification problem. A target value of 0 indicates that the individual does not have diabetes, while a value of 1 indicates that the individual does have diabetes.\n",
        "\n",
        "diabetes_df has been preloaded for you as a pandas DataFrame and split into X_train, X_test, y_train, and y_test. In addition, a KNeighborsClassifier() has been instantiated and assigned to knn.\n",
        "\n",
        "You will fit the model, make predictions on the test set, then produce a confusion matrix and classification report.\n",
        "\n",
        "### Instructions\n",
        "\n",
        " - Import confusion_matrix and classification_report.\n",
        " - Fit the model to the training data.\n",
        " - Predict the labels of the test set, storing the results as y_pred.\n",
        " - Assessing a diabetes prediction classifier\n",
        " - Compute and print the confusion matrix and classification report for the test labels versus the predicted labels."
      ]
    },
    {
      "cell_type": "code",
      "execution_count": null,
      "id": "7e633542",
      "metadata": {
        "colab": {
          "base_uri": "https://localhost:8080/"
        },
        "id": "7e633542",
        "outputId": "002d437a-14fe-4218-a23c-c31d6e46f5fa"
      },
      "outputs": [
        {
          "output_type": "stream",
          "name": "stdout",
          "text": [
            "<class 'pandas.core.frame.DataFrame'>\n",
            "RangeIndex: 768 entries, 0 to 767\n",
            "Data columns (total 9 columns):\n",
            " #   Column       Non-Null Count  Dtype  \n",
            "---  ------       --------------  -----  \n",
            " 0   pregnancies  768 non-null    int64  \n",
            " 1   glucose      768 non-null    int64  \n",
            " 2   diastolic    768 non-null    int64  \n",
            " 3   triceps      768 non-null    int64  \n",
            " 4   insulin      768 non-null    int64  \n",
            " 5   bmi          768 non-null    float64\n",
            " 6   dpf          768 non-null    float64\n",
            " 7   age          768 non-null    int64  \n",
            " 8   diabetes     768 non-null    int64  \n",
            "dtypes: float64(2), int64(7)\n",
            "memory usage: 54.1 KB\n"
          ]
        }
      ],
      "source": [
        "import pandas as pd\n",
        "from sklearn.model_selection import train_test_split\n",
        "from sklearn.neighbors import KNeighborsClassifier\n",
        "diabetes_df = pd.read_csv(\"https://raw.githubusercontent.com/marcinsawinski/UEP_KIE_ML_CLASS/refs/heads/main/dc_supervised_student/datasets/diabetes_clean.csv\")\n",
        "diabetes_df.info()"
      ]
    },
    {
      "cell_type": "code",
      "execution_count": null,
      "id": "896ffedd",
      "metadata": {
        "id": "896ffedd"
      },
      "outputs": [],
      "source": [
        "X = diabetes_df[[\"bmi\", \"age\"]].values\n",
        "y = diabetes_df[\"diabetes\"].values\n",
        "X_train, X_test, y_train, y_test = train_test_split(X, y, test_size=0.3, random_state=42, stratify=y)"
      ]
    },
    {
      "cell_type": "code",
      "execution_count": null,
      "id": "faa73eb9",
      "metadata": {
        "colab": {
          "base_uri": "https://localhost:8080/"
        },
        "id": "faa73eb9",
        "outputId": "86900a97-971b-40d9-e9cb-adbf87c3a647"
      },
      "outputs": [
        {
          "output_type": "stream",
          "name": "stdout",
          "text": [
            "[[134  16]\n",
            " [ 61  20]]\n",
            "              precision    recall  f1-score   support\n",
            "\n",
            "           0       0.69      0.89      0.78       150\n",
            "           1       0.56      0.25      0.34        81\n",
            "\n",
            "    accuracy                           0.67       231\n",
            "   macro avg       0.62      0.57      0.56       231\n",
            "weighted avg       0.64      0.67      0.62       231\n",
            "\n"
          ]
        }
      ],
      "source": [
        "# Import confusion matrix\n",
        "from sklearn.metrics import confusion_matrix, classification_report\n",
        "\n",
        "knn = KNeighborsClassifier(n_neighbors=6)\n",
        "\n",
        "# Fit the model to the training data\n",
        "knn.fit(X_train, y_train)\n",
        "\n",
        "# Predict the labels of the test data: y_pred\n",
        "y_pred = knn.predict(X_test)\n",
        "\n",
        "# Generate the confusion matrix and classification report\n",
        "print(confusion_matrix(y_test, y_pred))\n",
        "print(classification_report(y_test, y_pred))\n"
      ]
    },
    {
      "cell_type": "markdown",
      "id": "1c3cb1a3",
      "metadata": {
        "id": "1c3cb1a3"
      },
      "source": [
        "## Building a logistic regression model\n",
        "In this exercise, you will build a logistic regression model using all features in the diabetes_df dataset. The model will be used to predict the probability of individuals in the test set having a diabetes diagnosis.\n",
        "\n",
        "The diabetes_df dataset has been split into X_train, X_test, y_train, and y_test, and preloaded for you.\n",
        "\n",
        "### Instructions\n",
        "\n",
        " - Import LogisticRegression.\n",
        " - Instantiate a logistic regression model, logreg.\n",
        " - Fit the model to the training data.\n",
        " - Predict the probabilities of each individual in the test set having a diabetes diagnosis, storing the array of positive probabilities as y_pred_probs."
      ]
    },
    {
      "cell_type": "code",
      "execution_count": null,
      "id": "1256de4a",
      "metadata": {
        "id": "1256de4a"
      },
      "outputs": [],
      "source": [
        "X = diabetes_df.drop(columns=\"diabetes\").values\n",
        "y = diabetes_df[\"diabetes\"].values\n",
        "X_train, X_test, y_train, y_test = train_test_split(X, y, test_size=0.3, random_state=42, stratify=y)"
      ]
    },
    {
      "cell_type": "code",
      "execution_count": null,
      "id": "ceb644b6",
      "metadata": {
        "colab": {
          "base_uri": "https://localhost:8080/"
        },
        "id": "ceb644b6",
        "outputId": "37324f45-e705-44b0-85a6-6e6e47948721"
      },
      "outputs": [
        {
          "output_type": "stream",
          "name": "stdout",
          "text": [
            "[0.23040853 0.28910622 0.73169397 0.63125229 0.45115252 0.07690538\n",
            " 0.73115032 0.12432892 0.04388881 0.34826862]\n"
          ]
        },
        {
          "output_type": "stream",
          "name": "stderr",
          "text": [
            "/usr/local/lib/python3.12/dist-packages/sklearn/linear_model/_logistic.py:465: ConvergenceWarning: lbfgs failed to converge (status=1):\n",
            "STOP: TOTAL NO. OF ITERATIONS REACHED LIMIT.\n",
            "\n",
            "Increase the number of iterations (max_iter) or scale the data as shown in:\n",
            "    https://scikit-learn.org/stable/modules/preprocessing.html\n",
            "Please also refer to the documentation for alternative solver options:\n",
            "    https://scikit-learn.org/stable/modules/linear_model.html#logistic-regression\n",
            "  n_iter_i = _check_optimize_result(\n"
          ]
        }
      ],
      "source": [
        "# Import LogisticRegression\n",
        "from sklearn.linear_model import LogisticRegression\n",
        "\n",
        "# Instantiate the model\n",
        "logreg = LogisticRegression()\n",
        "\n",
        "# Fit the model\n",
        "logreg.fit(X_train, y_train)\n",
        "\n",
        "# Predict probabilities\n",
        "y_pred_probs = logreg.predict_proba(X_test)[:, 1]\n",
        "\n",
        "print(y_pred_probs[:10])\n"
      ]
    },
    {
      "cell_type": "markdown",
      "id": "9488ec65",
      "metadata": {
        "id": "9488ec65"
      },
      "source": [
        "## The ROC curve\n",
        "Now you have built a logistic regression model for predicting diabetes status, you can plot the ROC curve to visualize how the true positive rate and false positive rate vary as the decision threshold changes.\n",
        "\n",
        "The test labels, y_test, and the predicted probabilities of the test features belonging to the positive class, y_pred_probs, have been preloaded for you, along with matplotlib.pyplot as plt.\n",
        "\n",
        "You will create a ROC curve and then interpret the results.\n",
        "\n",
        "### Instructions\n",
        " - Import roc_curve.\n",
        " - Calculate the ROC curve values, using y_test and y_pred_probs, and unpacking the results into fpr, tpr, and thresholds.\n",
        " - Plot true positive rate against false positive rate."
      ]
    },
    {
      "cell_type": "code",
      "execution_count": null,
      "id": "18b34e8e",
      "metadata": {
        "id": "18b34e8e"
      },
      "outputs": [],
      "source": [
        "import matplotlib.pyplot as plt"
      ]
    },
    {
      "cell_type": "code",
      "execution_count": null,
      "id": "97deff75",
      "metadata": {
        "colab": {
          "base_uri": "https://localhost:8080/",
          "height": 472
        },
        "id": "97deff75",
        "outputId": "c15f2497-9d0d-46a1-9673-3245efe912c8"
      },
      "outputs": [
        {
          "output_type": "display_data",
          "data": {
            "text/plain": [
              "<Figure size 640x480 with 1 Axes>"
            ],
            "image/png": "[encoded data removed]"
          },
          "metadata": {}
        }
      ],
      "source": [
        "# Import roc_curve\n",
        "from sklearn.metrics import roc_curve\n",
        "\n",
        "# Generate ROC curve values: fpr, tpr, thresholds\n",
        "fpr, tpr, thresholds = roc_curve(y_test, y_pred_probs)\n",
        "\n",
        "plt.plot([0, 1], [0, 1], 'k--')\n",
        "\n",
        "# Plot tpr against fpr\n",
        "plt.plot(fpr, tpr)\n",
        "plt.xlabel('False Positive Rate')\n",
        "plt.ylabel('True Positive Rate')\n",
        "plt.title('ROC Curve for Diabetes Prediction')\n",
        "plt.show()\n"
      ]
    },
    {
      "cell_type": "markdown",
      "id": "087d3f0c",
      "metadata": {
        "id": "087d3f0c"
      },
      "source": [
        "## ROC AUC\n",
        "The ROC curve you plotted in the last exercise looked promising.\n",
        "\n",
        "Now you will compute the area under the ROC curve, along with the other classification metrics you have used previously.\n",
        "\n",
        "The confusion_matrix and classification_report functions have been preloaded for you, along with the logreg model you previously built, plus X_train, X_test, y_train, y_test. Also, the model's predicted test set labels are stored as y_pred, and probabilities of test set observations belonging to the positive class stored as y_pred_probs.\n",
        "\n",
        "A knn model has also been created and the performance metrics printed in the console, so you can compare the roc_auc_score, confusion_matrix, and classification_report between the two models.\n",
        "\n",
        "### Instructions\n",
        "\n",
        " - Import roc_auc_score.\n",
        " - Calculate and print the ROC AUC score, passing the test labels and the predicted positive class probabilities.\n",
        " - Calculate and print the confusion matrix.\n",
        " - Call classification_report()."
      ]
    },
    {
      "cell_type": "code",
      "execution_count": null,
      "id": "f5e4f2ae",
      "metadata": {
        "colab": {
          "base_uri": "https://localhost:8080/"
        },
        "id": "f5e4f2ae",
        "outputId": "1f95358d-01fd-4acb-dc2d-3569782ce4b0"
      },
      "outputs": [
        {
          "output_type": "stream",
          "name": "stdout",
          "text": [
            "0.8360493827160493\n",
            "[[134  16]\n",
            " [ 61  20]]\n",
            "              precision    recall  f1-score   support\n",
            "\n",
            "           0       0.69      0.89      0.78       150\n",
            "           1       0.56      0.25      0.34        81\n",
            "\n",
            "    accuracy                           0.67       231\n",
            "   macro avg       0.62      0.57      0.56       231\n",
            "weighted avg       0.64      0.67      0.62       231\n",
            "\n"
          ]
        }
      ],
      "source": [
        "# Import roc_auc_score\n",
        "from sklearn.metrics import roc_auc_score, confusion_matrix, classification_report\n",
        "\n",
        "# Calculate roc_auc_score\n",
        "print(roc_auc_score(y_test, y_pred_probs))\n",
        "\n",
        "# Calculate the confusion matrix\n",
        "print(confusion_matrix(y_test, y_pred))\n",
        "\n",
        "# Calculate the classification report\n",
        "print(classification_report(y_test, y_pred))\n"
      ]
    },
    {
      "cell_type": "markdown",
      "id": "7a2b9368",
      "metadata": {
        "id": "7a2b9368"
      },
      "source": [
        "## Hyperparameter tuning with GridSearchCV\n",
        "Now you have seen how to perform grid search hyperparameter tuning, you are going to build a lasso regression model with optimal hyperparameters to predict blood glucose levels using the features in the diabetes_df dataset.\n",
        "\n",
        "X_train, X_test, y_train, and y_test have been preloaded for you. A KFold() object has been created and stored for you as kf, along with a lasso regression model as lasso.\n",
        "\n",
        "### Instructions\n",
        " - Import GridSearchCV.\n",
        " - Set up a parameter grid for \"alpha\", using np.linspace() to create 20 evenly spaced values ranging from 0.00001 to 1.\n",
        " - Call GridSearchCV(), passing lasso, the parameter grid, and setting cv equal to kf.\n",
        " - Fit the grid search object to the training data to perform a cross-validated grid search."
      ]
    },
    {
      "cell_type": "code",
      "execution_count": null,
      "id": "e12ba754",
      "metadata": {
        "id": "e12ba754"
      },
      "outputs": [],
      "source": [
        "import numpy as np\n",
        "from sklearn.linear_model import Lasso\n",
        "from sklearn.model_selection import KFold\n",
        "\n",
        "lasso = Lasso()\n",
        "kf = KFold(n_splits=5, random_state=42, shuffle=True)"
      ]
    },
    {
      "cell_type": "code",
      "execution_count": null,
      "id": "9ee16aa3",
      "metadata": {
        "colab": {
          "base_uri": "https://localhost:8080/"
        },
        "id": "9ee16aa3",
        "outputId": "cc6ca178-ca81-44c0-ee23-c9c900e348d1"
      },
      "outputs": [
        {
          "output_type": "stream",
          "name": "stdout",
          "text": [
            "Tuned lasso paramaters: {'alpha': np.float64(0.0001)}\n",
            "Tuned lasso score: 0.27075826338598646\n"
          ]
        }
      ],
      "source": [
        "# Import GridSearchCV\n",
        "from sklearn.model_selection import GridSearchCV\n",
        "\n",
        "# Set up the parameter grid\n",
        "param_grid = {\"alpha\": np.linspace(0.0001, 1, 50)}\n",
        "\n",
        "# Instantiate lasso_cv\n",
        "lasso_cv = GridSearchCV(Lasso(), param_grid, cv=5)\n",
        "\n",
        "# Fit to the training data\n",
        "lasso_cv.fit(X_train, y_train)\n",
        "\n",
        "print(\"Tuned lasso paramaters: {}\".format(lasso_cv.best_params_))\n",
        "print(\"Tuned lasso score: {}\".format(lasso_cv.best_score_))\n"
      ]
    },
    {
      "cell_type": "markdown",
      "id": "2c81a349",
      "metadata": {
        "id": "2c81a349"
      },
      "source": [
        "## Hyperparameter tuning with RandomizedSearchCV\n",
        "As you saw, GridSearchCV can be computationally expensive, especially if you are searching over a large hyperparameter space. In this case, you can use RandomizedSearchCV, which tests a fixed number of hyperparameter settings from specified probability distributions.\n",
        "\n",
        "Training and test sets from diabetes_df have been pre-loaded for you as X_train. X_test, y_train, and y_test, where the target is \"diabetes\". A logistic regression model has been created and stored as logreg, as well as a KFold variable stored as kf.\n",
        "\n",
        "You will define a range of hyperparameters and use RandomizedSearchCV, which has been imported from sklearn.model_selection, to look for optimal hyperparameters from these options.\n",
        "\n",
        "### Instructions\n",
        "\n",
        " - Create params, adding \"l1\" and \"l2\" as penalty values, setting C to a range of 50 float values between 0.1 and 1.0, and class_weight to either \"balanced\" or a dictionary containing 0:0.8, 1:0.2.\n",
        " - Create the Randomized Search CV object, passing the model and the parameters, and setting cv equal to kf.\n",
        " - Fit logreg_cv to the training data.\n",
        " - Print the model's best parameters and accuracy score."
      ]
    },
    {
      "cell_type": "code",
      "execution_count": null,
      "id": "6635a7dc",
      "metadata": {
        "id": "6635a7dc"
      },
      "outputs": [],
      "source": [
        "from sklearn.model_selection import RandomizedSearchCV"
      ]
    },
    {
      "cell_type": "code",
      "execution_count": null,
      "id": "a2e62df8",
      "metadata": {
        "colab": {
          "base_uri": "https://localhost:8080/"
        },
        "id": "a2e62df8",
        "outputId": "f95c13c6-5693-4acb-9330-dbc4d14fd63c"
      },
      "outputs": [
        {
          "output_type": "stream",
          "name": "stdout",
          "text": [
            "Tuned Logistic Regression Parameters: {'tol': np.float64(0.14294285714285712), 'penalty': 'l1', 'class_weight': {0: 0.3, 1: 0.7}, 'C': np.float64(9.191836734693878)}\n",
            "Tuned Logistic Regression Best Accuracy Score: 0.7002249913464866\n"
          ]
        }
      ],
      "source": [
        "# Create the parameter space\n",
        "params = {\"penalty\": [\"l1\", \"l2\"],\n",
        "         \"tol\": np.linspace(0.0001, 1.0, 50),\n",
        "         \"C\": np.linspace(0.1, 10, 50),\n",
        "         \"class_weight\": [\"balanced\", {0: 0.3, 1: 0.7}]}\n",
        "\n",
        "# Instantiate the RandomizedSearchCV object\n",
        "logreg_cv = RandomizedSearchCV(LogisticRegression(solver='liblinear'), params, cv=5)\n",
        "\n",
        "# Fit the data to the model\n",
        "logreg_cv.fit(X_train, y_train)\n",
        "\n",
        "# Print the tuned parameters and score\n",
        "print(\"Tuned Logistic Regression Parameters: {}\".format(logreg_cv.best_params_))\n",
        "print(\"Tuned Logistic Regression Best Accuracy Score: {}\".format(logreg_cv.best_score_))\n"
      ]
    }
  ],
  "metadata": {
    "kernelspec": {
      "display_name": "ml25",
      "language": "python",
      "name": "python3"
    },
    "language_info": {
      "codemirror_mode": {
        "name": "ipython",
        "version": 3
      },
      "file_extension": ".py",
      "mimetype": "text/x-python",
      "name": "python",
      "nbconvert_exporter": "python",
      "pygments_lexer": "ipython3",
      "version": "3.11.13"
    },
    "colab": {
      "provenance": [],
      "include_colab_link": true
    }
  },
  "nbformat": 4,
  "nbformat_minor": 5
}